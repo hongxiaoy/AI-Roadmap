{
 "cells": [
  {
   "cell_type": "markdown",
   "id": "a0296d9e",
   "metadata": {},
   "source": [
    "# 拉普拉斯平滑 Laplace Smoothing\n",
    "\n",
    "拉普拉斯平滑又称**加1平滑**，常用平滑方法。**解决零概率问题**。\n",
    "\n",
    "## 为什么要做平滑处理\n",
    "\n",
    "为了解决**零概率问题**：在计算实例的概率时，如果某个量 $x$，在观察样本库（训练集）中没有出现过，会导致整个实例的概率结果是 $0$。\n",
    "\n",
    "这是不合理的，不能因为一个事件没有观察到就武断的认为该事件的概率是0。\n",
    "\n",
    "## 拉普拉斯的理论支撑\n",
    "\n",
    "为了解决零概率的问题，法国数学家拉普拉斯最早提出**用加1的方法估计没有出现过的现象的概率**，所以**加法平滑**也叫做拉普拉斯平滑。\n",
    "\n",
    "假定**训练样本很大**时，每个分量 $x$ 的计数加1造成的估计概率变化可以忽略不计，但可以方便有效的避免零概率问题。\n",
    "\n",
    "## 应用举例\n",
    "\n",
    "假设在文本分类中，有3个类 $C1, C2, C3$，在指定的训练样本中，某个词语 $K_1$，在各个类中观测计数分别为 $0, 990, 10$，$K_1$ 的概率为 $0, 0.99, 0.01$，对这三个量使用拉普拉斯平滑的计算方法如下：\n",
    "\n",
    "$$\n",
    "\\frac{0+1}{1000+1\\times3}=\\frac{1}{1003}=0.001, \\\\\n",
    "\\frac{990+1}{1000+1\\times3}=0.988, \\\\\n",
    "\\frac{10+1}{1000+1\\times3}=0.011 \\\\\n",
    "$$\n",
    "\n",
    "在实际的使用中也经常使用加 $lambda(1\\geq lambda\\geq0)$ 来代替简单加 $1$。如果对 $N$ 个计数都加上 $lambda$，这时分母也要记得加上 $N\\times lambda$。"
   ]
  },
  {
   "cell_type": "code",
   "execution_count": null,
   "id": "2d053d95",
   "metadata": {},
   "outputs": [],
   "source": []
  }
 ],
 "metadata": {
  "kernelspec": {
   "display_name": "Python 3 (ipykernel)",
   "language": "python",
   "name": "python3"
  },
  "language_info": {
   "codemirror_mode": {
    "name": "ipython",
    "version": 3
   },
   "file_extension": ".py",
   "mimetype": "text/x-python",
   "name": "python",
   "nbconvert_exporter": "python",
   "pygments_lexer": "ipython3",
   "version": "3.8.13"
  }
 },
 "nbformat": 4,
 "nbformat_minor": 5
}
