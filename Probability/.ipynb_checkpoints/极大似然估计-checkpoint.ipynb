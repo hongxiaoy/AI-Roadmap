{
 "cells": [
  {
   "cell_type": "markdown",
   "id": "2924316f",
   "metadata": {},
   "source": [
    "# 极大似然估计\n",
    "\n",
    "---\n",
    "\n",
    "设**总体**的**概率密度函数**或**概率分布**为 $f(x,\\theta_1, ..., \\theta_k)$，$X_1,X_2, ..., X_n$ 为从该总体抽出的样本。因为 $X_1,X_2, ..., X_n$ 相互**独立**且**同分布**，于是它们的**联合概率密度函数**或**联合概率分布**为\n",
    "\n",
    "$$\n",
    "L(x_1,x_2,...,x_n;\\theta_1,..,\\theta_k)=\\prod_{i=1}^nf(x_i,\\theta_1,...,\\theta_k)\n",
    "$$"
   ]
  },
  {
   "cell_type": "markdown",
   "id": "ddb774ca",
   "metadata": {},
   "source": [
    "这里 $\\theta_1,...,\\theta_k$ 被看作**固定**但是**未知**的参数。反过来，如果我们把 $x_1,x_2,...,x_n$ 看成**固定**的，则 $L(x_1,x_2,...,x_n;\\theta_1,..,\\theta_k)$ 就是 $\\theta_1,..,\\theta_k$ 的函数，这时我们把它称为**似然函数**。"
   ]
  },
  {
   "cell_type": "markdown",
   "id": "22de9b70",
   "metadata": {},
   "source": [
    "假定现在我们已经观测到一组样本观测值 $x_1,..,x_n$，要去估计未知参数 $\\theta_1,...,\\theta_k$。\n",
    "\n",
    "一种直观的想法是：哪一组参数值使现在的**样本观测值出现的可能性最大**，哪一组参数可能就是真正的参数，我们就用它**作为参数的估计值**。"
   ]
  },
  {
   "cell_type": "markdown",
   "id": "cd327f8f",
   "metadata": {},
   "source": [
    "> 假定已知一组样本观测值 $x_1,..,x_n$，对参数的两组不同的值 $\\theta_1^{\\prime},..,\\theta_k^{\\prime}$ 和 $\\theta_1^{\\prime\\prime},..,\\theta_k^{\\prime\\prime}$，似然函数有如下关系：\n",
    "\n",
    "> $$\n",
    "L(x_1,x_2,...,x_n;\\theta_1^{\\prime},..,\\theta_k^{\\prime})>L(x_1,x_2,...,x_n;\\theta_1^{\\prime\\prime},..,\\theta_k^{\\prime\\prime})\n",
    "$$\n",
    "\n",
    "> 即，参数 $\\theta_1^{\\prime},..,\\theta_k^{\\prime}$ 使 $x_1,..,x_n$ 出现的可能性比参数 $\\theta_1^{\\prime\\prime},..,\\theta_k^{\\prime\\prime}$ 大，因而更像真正的参数。"
   ]
  },
  {
   "cell_type": "markdown",
   "id": "9983e04c",
   "metadata": {},
   "source": [
    "这样分析导致了参数估计的一种方法：\n",
    "\n",
    "用似然函数达到最大值的点 $\\theta_1^{*},..,\\theta_k^{*}$ 作为未知参数的估计，这就是所谓的**极大似然估计**。"
   ]
  },
  {
   "cell_type": "markdown",
   "id": "1a400e49",
   "metadata": {},
   "source": [
    "---\n",
    "为简单起见，以下记 $L(\\theta)=L(x_1,x_2,...,x_n;\\theta_1,...\\theta_n)$。求 $\\theta$ 的极大似然估计就归结为求 $L(\\theta)$ 的最大值点。\n",
    "\n",
    "由于对数是单调增函数，所以\n",
    "\n",
    "$$\n",
    "\\ln L(\\theta)=\\sum_{i=1}^nlnf(x_i,\\theta_1,...,\\theta_k)\n",
    "$$\n",
    "\n",
    "与 $L(\\theta)$ 有相同的最大值点。"
   ]
  },
  {
   "cell_type": "markdown",
   "id": "bfa783f5",
   "metadata": {},
   "source": [
    "对 $\\ln L(\\theta)$ 关于 $\\theta_1,...,\\theta_k$ 求导数，并令其等于 $0$，得到方程组（似然方程组）：\n",
    "\n",
    "$$\n",
    "\\frac{\\partial \\ln L(\\theta)}{\\partial \\theta_i}=0,\\space i=1,...,k\n",
    "$$\n",
    "\n",
    "解方程组，得到驻点，如果驻点唯一，且验证为极大值点，则必是最大值点，即所求的极大似然估计。"
   ]
  },
  {
   "cell_type": "markdown",
   "id": "cfd16df4",
   "metadata": {},
   "source": [
    "- 一些情况下，似然方程组的**解**可能**不唯一**，这时需要**进一步判定**哪一个是**最大值点**。\n",
    "- 若函数 $f(x_i,\\theta_1,...,\\theta_k)$ 关于 $\\theta_1,...,\\theta_k$ 的**导数不存在**时，就**无法得到**似然方程组，这时必须根据极大似然估计的**定义直接求** $L(\\theta)$ 的**最大值点**。"
   ]
  },
  {
   "cell_type": "markdown",
   "id": "88e8f85e",
   "metadata": {},
   "source": [
    "一些情况下，我们需要估计 $g(\\theta_1,...,\\theta_k)$。如果 $\\theta_1^{*},..,\\theta_k^{*}$ 分别是 $\\theta_1,...,\\theta_k$ 的极大似然估计，则称 $g(\\theta_1^{*},..,\\theta_k^{*})$ 为 $g(\\theta_1,...,\\theta_k)$ 的极大似然估计。"
   ]
  },
  {
   "cell_type": "markdown",
   "id": "380e0980",
   "metadata": {},
   "source": [
    "---\n",
    "*例子:*\n",
    "\n",
    "*设从正态总体 $N(\\mu,\\sigma^2)$ 抽出样本 $X_1,...,X_n$，这里未知参数为 $\\mu$ 和 $\\sigma^2$。*\n",
    "\n",
    "*似然函数为：*\n",
    "\n",
    "$$\n",
    "L(\\mu,\\sigma^2)=\\prod_{i=1}^n\\frac{1}{\\sqrt{2\\pi}\\sigma}e^{-\\frac{(x_i-\\mu)^2}{2\\sigma^2}}=(2\\pi\\sigma^2)^{-\\frac{2}{n}}e^{-\\frac{1}{2\\sigma^2}\\sum_{i=1}^n\\space(x_i-\\mu)^2} \\\\\n",
    "$$"
   ]
  },
  {
   "cell_type": "markdown",
   "id": "239c3658",
   "metadata": {},
   "source": [
    "$$\n",
    "\\ln L(\\mu,\\sigma^2)=-\\frac{n}{2}\\ln(2\\pi)-\\frac{n}{2}\\ln(\\sigma^2)-\\frac{1}{2\\sigma^2}\\sum_{i=1}^{n}(x_i-\\mu)^2 \\\\\n",
    "$$"
   ]
  },
  {
   "cell_type": "markdown",
   "id": "2d69ad1e",
   "metadata": {},
   "source": [
    "$$\n",
    "\\begin{cases}\n",
    "\\frac{\\partial \\ln L(\\mu,\\sigma^2)}{\\partial \\mu} = \\frac{1}{\\sigma^2}\\sum_{i=1}^n(x_i-\\mu)=0 \\\\\n",
    "\\frac{\\partial \\ln L(\\mu,\\sigma^2)}{\\partial \\sigma^2} = \\frac{n}{2\\sigma^2}+\\frac{1}{2\\sigma^4}\\sum_{i=1}^n(x_i-\\mu)^2=0 \\\\\n",
    "\\end{cases} \\\\\n",
    "$$"
   ]
  },
  {
   "cell_type": "markdown",
   "id": "e8ab0fa2",
   "metadata": {},
   "source": [
    "$$\n",
    "\\begin{cases}\n",
    "\\mu^{*}=\\bar{x}=\\frac{1}{n}\\sum_{i=1}^n x_i \\\\\n",
    "\\sigma^{2*} = \\frac{1}{n}\\sum_{i=1}^n(x_i-\\bar{x})^2 \\\\\n",
    "\\end{cases}\n",
    "$$"
   ]
  },
  {
   "cell_type": "markdown",
   "id": "c787de39",
   "metadata": {},
   "source": [
    "*似然方程有唯一解，且一定是最大值点。（分析函数相对于某个变量的单调性可得）于是，$\\mu$ 和 $\\sigma^2$ 的极大似然估计为：*\n",
    "\n",
    "$$\n",
    "\\mu^*=\\bar{X}, \\\\\n",
    "\\sigma^{2*}=\\frac{1}{n}\\sum_{i=1}^n(X_i-\\bar{X})^2 \\\\\n",
    "$$\n",
    "\n",
    "这里用大写字母表示所有涉及的样本，因为极大似然估计参数都是统计量，离开了具体的一次试验或观测，它们都是随机的。"
   ]
  },
  {
   "cell_type": "markdown",
   "id": "26f1bdd4",
   "metadata": {},
   "source": [
    "---\n",
    "这里补充一个知识点：\n",
    "- 频率是概率的极大似然估计。\n",
    "> 检验产品合格率 $p$，就可以从中选 $N$ 件产品进行检查，如果有 $n$ 件合格品，则 $\\hat{p}=n/N$ 就是合格率的极大似然估计。"
   ]
  },
  {
   "cell_type": "markdown",
   "id": "f57394db",
   "metadata": {},
   "source": [
    "总结：\n",
    "- 极大似然估计必须知道总体分布形式，并且在一般情况下，似然方程组的求解较复杂。"
   ]
  },
  {
   "cell_type": "code",
   "execution_count": null,
   "id": "bbd49703",
   "metadata": {},
   "outputs": [],
   "source": []
  }
 ],
 "metadata": {
  "kernelspec": {
   "display_name": "Python 3 (ipykernel)",
   "language": "python",
   "name": "python3"
  },
  "language_info": {
   "codemirror_mode": {
    "name": "ipython",
    "version": 3
   },
   "file_extension": ".py",
   "mimetype": "text/x-python",
   "name": "python",
   "nbconvert_exporter": "python",
   "pygments_lexer": "ipython3",
   "version": "3.8.13"
  }
 },
 "nbformat": 4,
 "nbformat_minor": 5
}
